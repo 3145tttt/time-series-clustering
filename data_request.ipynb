{
 "cells": [
  {
   "cell_type": "code",
   "execution_count": 1,
   "id": "0350b39b",
   "metadata": {},
   "outputs": [],
   "source": [
    "import requests\n",
    "import pandas as pd\n",
    "import numpy as np\n",
    "from multiprocessing.dummy import Pool as ThreadPool\n",
    "\n",
    "key = \"fcabada09a68ee4989c8773d205528092c38287c8f21707325e92d62596b0544\""
   ]
  },
  {
   "cell_type": "code",
   "execution_count": 2,
   "id": "decf5519",
   "metadata": {},
   "outputs": [
    {
     "ename": "NameError",
     "evalue": "name 'POOL_SIZE' is not defined",
     "output_type": "error",
     "traceback": [
      "\u001b[0;31m---------------------------------------------------------------------------\u001b[0m",
      "\u001b[0;31mNameError\u001b[0m                                 Traceback (most recent call last)",
      "\u001b[0;32m<ipython-input-2-429bfdcd571e>\u001b[0m in \u001b[0;36m<module>\u001b[0;34m\u001b[0m\n\u001b[0;32m----> 1\u001b[0;31m \u001b[0mPOOL_SIZE\u001b[0m\u001b[0;34m\u001b[0m\u001b[0;34m\u001b[0m\u001b[0m\n\u001b[0m",
      "\u001b[0;31mNameError\u001b[0m: name 'POOL_SIZE' is not defined"
     ]
    }
   ],
   "source": [
    "POOL_SIZE"
   ]
  },
  {
   "cell_type": "code",
   "execution_count": 2,
   "id": "c4bc1384",
   "metadata": {},
   "outputs": [
    {
     "data": {
      "text/plain": [
       "(100,)"
      ]
     },
     "execution_count": 2,
     "metadata": {},
     "output_type": "execute_result"
    }
   ],
   "source": [
    "url = \"https://min-api.cryptocompare.com/data/top/totalvolfull?limit=100&tsym=USD\"\n",
    "page = requests.get(url)\n",
    "good_names = np.array([i['CoinInfo']['Name'] for i in page.json()['Data']])\n",
    "good_names.shape"
   ]
  },
  {
   "cell_type": "code",
   "execution_count": 3,
   "id": "00a7bfe9",
   "metadata": {},
   "outputs": [],
   "source": [
    "def get_json_min(title):\n",
    "    url = \"https://min-api.cryptocompare.com/data/v2/histominute?fsym={}&tsym=USD&limit=1440&api_key={}\".format(title, key)\n",
    "    page = requests.get(url)\n",
    "    if \"Data\" in page.json()[\"Data\"]:\n",
    "        return page.json()[\"Data\"][\"Data\"]\n",
    "    \n",
    "def get_json_hour(title):\n",
    "    url = \"https://min-api.cryptocompare.com/data/v2/histohour?fsym={}&tsym=USD&limit=168&api_key={}\".format(title, key)\n",
    "    page = requests.get(url)\n",
    "    if \"Data\" in page.json()[\"Data\"]:\n",
    "        return page.json()[\"Data\"][\"Data\"]\n",
    "    \n",
    "def get_json_day(title):\n",
    "    url = \"https://min-api.cryptocompare.com/data/v2/histoday?fsym={}&tsym=USD&limit=60&api_key={}\".format(title, key)\n",
    "    page = requests.get(url)\n",
    "    if \"Data\" in page.json()[\"Data\"]:\n",
    "        return page.json()[\"Data\"][\"Data\"] \n",
    "\n",
    "def make_clean_df(content, title):\n",
    "    df = pd.DataFrame(content).rename(columns={\"close\": title})\n",
    "    columns_drop = df.columns[[1, 2, 3, 4, 5, 7, 8]]\n",
    "    df_clean = df.drop(columns_drop, axis=1)\n",
    "    df_clean.set_index(\"time\", inplace=True)\n",
    "    \n",
    "    return df_clean"
   ]
  },
  {
   "cell_type": "code",
   "execution_count": 4,
   "id": "45b07dd6",
   "metadata": {
    "scrolled": false
   },
   "outputs": [],
   "source": [
    "def make_data(func):\n",
    "    with ThreadPool(15) as pool:\n",
    "        contents = pool.map(func, good_names)\n",
    "\n",
    "    train_df = pd.DataFrame()\n",
    "\n",
    "    for i, title in enumerate(good_names):\n",
    "        if contents[i] != None:\n",
    "            tmp = make_clean_df(contents[i], title)\n",
    "            train_df = pd.concat([train_df, tmp], axis=1)\n",
    "    return train_df"
   ]
  },
  {
   "cell_type": "code",
   "execution_count": 6,
   "id": "aadef5bd",
   "metadata": {},
   "outputs": [
    {
     "name": "stdout",
     "output_type": "stream",
     "text": [
      "(1441, 99)\n",
      "(169, 99)\n",
      "(61, 99)\n"
     ]
    }
   ],
   "source": [
    "df_min = make_data(get_json_min)\n",
    "print(df_min.shape)\n",
    "df_hour = make_data(get_json_hour)\n",
    "print(df_hour.shape)\n",
    "df_day = make_data(get_json_day)\n",
    "print(df_day.shape)"
   ]
  },
  {
   "cell_type": "code",
   "execution_count": 11,
   "id": "950d9c11",
   "metadata": {},
   "outputs": [],
   "source": [
    "df_min.to_csv(\"min.csv\")\n",
    "df_hour.to_csv(\"hour.csv\")\n",
    "df_day.to_csv(\"day.csv\")"
   ]
  },
  {
   "cell_type": "code",
   "execution_count": null,
   "id": "1fa7c097",
   "metadata": {},
   "outputs": [],
   "source": []
  }
 ],
 "metadata": {
  "kernelspec": {
   "display_name": "Python 3",
   "language": "python",
   "name": "python3"
  },
  "language_info": {
   "codemirror_mode": {
    "name": "ipython",
    "version": 3
   },
   "file_extension": ".py",
   "mimetype": "text/x-python",
   "name": "python",
   "nbconvert_exporter": "python",
   "pygments_lexer": "ipython3",
   "version": "3.7.10"
  }
 },
 "nbformat": 4,
 "nbformat_minor": 5
}
